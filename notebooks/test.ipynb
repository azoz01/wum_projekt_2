{
 "cells": [
  {
   "cell_type": "code",
   "execution_count": 1,
   "metadata": {},
   "outputs": [],
   "source": [
    "import pandas as pd"
   ]
  },
  {
   "cell_type": "code",
   "execution_count": 6,
   "metadata": {},
   "outputs": [
    {
     "data": {
      "text/html": [
       "<div>\n",
       "<style scoped>\n",
       "    .dataframe tbody tr th:only-of-type {\n",
       "        vertical-align: middle;\n",
       "    }\n",
       "\n",
       "    .dataframe tbody tr th {\n",
       "        vertical-align: top;\n",
       "    }\n",
       "\n",
       "    .dataframe thead th {\n",
       "        text-align: right;\n",
       "    }\n",
       "</style>\n",
       "<table border=\"1\" class=\"dataframe\">\n",
       "  <thead>\n",
       "    <tr style=\"text-align: right;\">\n",
       "      <th></th>\n",
       "      <th>doc_id</th>\n",
       "      <th>bow_dict</th>\n",
       "      <th>label</th>\n",
       "    </tr>\n",
       "  </thead>\n",
       "  <tbody>\n",
       "    <tr>\n",
       "      <th>0</th>\n",
       "      <td>352</td>\n",
       "      <td>{'abstract': 1, 'according': 2, 'acquire': 1, ...</td>\n",
       "      <td>nips</td>\n",
       "    </tr>\n",
       "    <tr>\n",
       "      <th>1</th>\n",
       "      <td>1783792</td>\n",
       "      <td>{'192ir': 1, 'accuracy': 1, 'activated': 1, 'a...</td>\n",
       "      <td>pubmed</td>\n",
       "    </tr>\n",
       "    <tr>\n",
       "      <th>2</th>\n",
       "      <td>21523</td>\n",
       "      <td>{'accept': 1, 'applies': 1, 'assume': 3, 'bid'...</td>\n",
       "      <td>enron</td>\n",
       "    </tr>\n",
       "    <tr>\n",
       "      <th>3</th>\n",
       "      <td>2815</td>\n",
       "      <td>{'battle': 1, 'cheney': 4, 'debate': 3, 'decid...</td>\n",
       "      <td>kos</td>\n",
       "    </tr>\n",
       "    <tr>\n",
       "      <th>4</th>\n",
       "      <td>150701</td>\n",
       "      <td>{'abuse': 1, 'access': 1, 'active': 1, 'addres...</td>\n",
       "      <td>nytimes</td>\n",
       "    </tr>\n",
       "    <tr>\n",
       "      <th>...</th>\n",
       "      <td>...</td>\n",
       "      <td>...</td>\n",
       "      <td>...</td>\n",
       "    </tr>\n",
       "    <tr>\n",
       "      <th>10402</th>\n",
       "      <td>177591</td>\n",
       "      <td>{'accident': 2, 'according': 1, 'activate': 1,...</td>\n",
       "      <td>nytimes</td>\n",
       "    </tr>\n",
       "    <tr>\n",
       "      <th>10403</th>\n",
       "      <td>96626</td>\n",
       "      <td>{'acceptable': 1, 'act': 1, 'action': 1, 'advi...</td>\n",
       "      <td>nytimes</td>\n",
       "    </tr>\n",
       "    <tr>\n",
       "      <th>10404</th>\n",
       "      <td>30497</td>\n",
       "      <td>{'account': 2, 'address': 2, 'amazon': 1, 'ama...</td>\n",
       "      <td>enron</td>\n",
       "    </tr>\n",
       "    <tr>\n",
       "      <th>10405</th>\n",
       "      <td>495519</td>\n",
       "      <td>{'2_year': 1, 'abnormalities': 1, 'aggregates'...</td>\n",
       "      <td>pubmed</td>\n",
       "    </tr>\n",
       "    <tr>\n",
       "      <th>10406</th>\n",
       "      <td>30710</td>\n",
       "      <td>{'cera': 1, 'conference': 1, 'crisis': 1, 'ear...</td>\n",
       "      <td>enron</td>\n",
       "    </tr>\n",
       "  </tbody>\n",
       "</table>\n",
       "<p>10407 rows × 3 columns</p>\n",
       "</div>"
      ],
      "text/plain": [
       "        doc_id                                           bow_dict    label\n",
       "0          352  {'abstract': 1, 'according': 2, 'acquire': 1, ...     nips\n",
       "1      1783792  {'192ir': 1, 'accuracy': 1, 'activated': 1, 'a...   pubmed\n",
       "2        21523  {'accept': 1, 'applies': 1, 'assume': 3, 'bid'...    enron\n",
       "3         2815  {'battle': 1, 'cheney': 4, 'debate': 3, 'decid...      kos\n",
       "4       150701  {'abuse': 1, 'access': 1, 'active': 1, 'addres...  nytimes\n",
       "...        ...                                                ...      ...\n",
       "10402   177591  {'accident': 2, 'according': 1, 'activate': 1,...  nytimes\n",
       "10403    96626  {'acceptable': 1, 'act': 1, 'action': 1, 'advi...  nytimes\n",
       "10404    30497  {'account': 2, 'address': 2, 'amazon': 1, 'ama...    enron\n",
       "10405   495519  {'2_year': 1, 'abnormalities': 1, 'aggregates'...   pubmed\n",
       "10406    30710  {'cera': 1, 'conference': 1, 'crisis': 1, 'ear...    enron\n",
       "\n",
       "[10407 rows x 3 columns]"
      ]
     },
     "execution_count": 6,
     "metadata": {},
     "output_type": "execute_result"
    }
   ],
   "source": [
    "pd.read_pickle(\"../resources/data/test_data.pkl\")"
   ]
  }
 ],
 "metadata": {
  "interpreter": {
   "hash": "40ccfa67bf68b2ed06fcd07ea11f0108ca30e76e3ea29b3f4adfde8e4b3f6a56"
  },
  "kernelspec": {
   "display_name": "Python 3.9.12 ('wum')",
   "language": "python",
   "name": "python3"
  },
  "language_info": {
   "codemirror_mode": {
    "name": "ipython",
    "version": 3
   },
   "file_extension": ".py",
   "mimetype": "text/x-python",
   "name": "python",
   "nbconvert_exporter": "python",
   "pygments_lexer": "ipython3",
   "version": "3.9.12"
  },
  "orig_nbformat": 4
 },
 "nbformat": 4,
 "nbformat_minor": 2
}
