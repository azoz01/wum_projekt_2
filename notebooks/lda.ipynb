{
 "cells": [
  {
   "cell_type": "code",
   "execution_count": null,
   "metadata": {},
   "outputs": [],
   "source": [
    "import os\n",
    "os.chdir(\"..\")"
   ]
  },
  {
   "cell_type": "code",
   "execution_count": null,
   "metadata": {},
   "outputs": [],
   "source": [
    "import pandas as pd\n",
    "import numpy as np\n",
    "import swifter\n",
    "\n",
    "from gensim.corpora.dictionary import Dictionary\n",
    "from gensim.models.ldamulticore import LdaMulticore"
   ]
  },
  {
   "cell_type": "code",
   "execution_count": null,
   "metadata": {},
   "outputs": [],
   "source": [
    "def bow_to_list(bow):\n",
    "    l = [[item[0]] * item[1] for item in bow.items()]\n",
    "    l = [str(item) for sublist in l for item in sublist]\n",
    "    return l"
   ]
  },
  {
   "cell_type": "code",
   "execution_count": null,
   "metadata": {},
   "outputs": [],
   "source": [
    "df_train = pd.read_pickle(\"resources/data/train_data.pkl\")\n",
    "df_test = pd.read_pickle(\"resources/data/test_data.pkl\")"
   ]
  },
  {
   "cell_type": "code",
   "execution_count": null,
   "metadata": {},
   "outputs": [],
   "source": [
    "train_token_lists = df_train['bow_dict'].swifter.apply(bow_to_list)\n",
    "train_dictionary = Dictionary(train_token_lists)\n",
    "train_bows = train_token_lists.apply(train_dictionary.doc2bow)\n",
    "\n",
    "test_token_lists = df_test['bow_dict'].swifter.apply(bow_to_list)\n",
    "test_dictionary = Dictionary(test_token_lists)\n",
    "test_bows = test_token_lists.apply(test_dictionary.doc2bow)"
   ]
  },
  {
   "cell_type": "code",
   "execution_count": null,
   "metadata": {},
   "outputs": [],
   "source": [
    "n_topics = 4\n",
    "lda = LdaMulticore(train_bows, num_topics=n_topics)"
   ]
  },
  {
   "cell_type": "code",
   "execution_count": null,
   "metadata": {},
   "outputs": [],
   "source": [
    "train_pred = np.array([\n",
    "    max(lda[bow], key=lambda topic: topic[1])[0] for bow in train_bows \n",
    "])\n",
    "\n",
    "test_pred = np.array([\n",
    "    max(lda[bow], key=lambda topic: topic[1])[0] for bow in train_bows \n",
    "])"
   ]
  },
  {
   "cell_type": "code",
   "execution_count": null,
   "metadata": {},
   "outputs": [],
   "source": [
    "train_oh = np.zeros((train_pred.shape[0], n_topics))\n",
    "train_oh[list(range(train_oh.shape[0])), train_pred] = 1 "
   ]
  }
 ],
 "metadata": {
  "interpreter": {
   "hash": "40ccfa67bf68b2ed06fcd07ea11f0108ca30e76e3ea29b3f4adfde8e4b3f6a56"
  },
  "kernelspec": {
   "display_name": "Python 3.9.12 ('wum')",
   "language": "python",
   "name": "python3"
  },
  "language_info": {
   "codemirror_mode": {
    "name": "ipython",
    "version": 3
   },
   "file_extension": ".py",
   "mimetype": "text/x-python",
   "name": "python",
   "nbconvert_exporter": "python",
   "pygments_lexer": "ipython3",
   "version": "3.9.12"
  },
  "orig_nbformat": 4
 },
 "nbformat": 4,
 "nbformat_minor": 2
}
