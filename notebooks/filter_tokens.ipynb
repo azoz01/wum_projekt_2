{
 "cells": [
  {
   "cell_type": "code",
   "execution_count": 1,
   "metadata": {},
   "outputs": [],
   "source": [
    "%load_ext lab_black"
   ]
  },
  {
   "cell_type": "code",
   "execution_count": 2,
   "metadata": {},
   "outputs": [],
   "source": [
    "import os\n",
    "\n",
    "os.chdir(\"..\")"
   ]
  },
  {
   "cell_type": "code",
   "execution_count": 3,
   "metadata": {},
   "outputs": [],
   "source": [
    "import pandas as pd\n",
    "from pipelines.pipelines_config import *"
   ]
  },
  {
   "cell_type": "code",
   "execution_count": 4,
   "metadata": {},
   "outputs": [],
   "source": [
    "df = pd.read_pickle(train_data_path)"
   ]
  },
  {
   "cell_type": "code",
   "execution_count": 5,
   "metadata": {},
   "outputs": [
    {
     "data": {
      "text/html": [
       "<div>\n",
       "<style scoped>\n",
       "    .dataframe tbody tr th:only-of-type {\n",
       "        vertical-align: middle;\n",
       "    }\n",
       "\n",
       "    .dataframe tbody tr th {\n",
       "        vertical-align: top;\n",
       "    }\n",
       "\n",
       "    .dataframe thead th {\n",
       "        text-align: right;\n",
       "    }\n",
       "</style>\n",
       "<table border=\"1\" class=\"dataframe\">\n",
       "  <thead>\n",
       "    <tr style=\"text-align: right;\">\n",
       "      <th></th>\n",
       "      <th>doc_id</th>\n",
       "      <th>bow_dict</th>\n",
       "      <th>label</th>\n",
       "    </tr>\n",
       "  </thead>\n",
       "  <tbody>\n",
       "    <tr>\n",
       "      <th>0</th>\n",
       "      <td>8018</td>\n",
       "      <td>{'afternoon': 1, 'attached': 1, 'board': 1, 'b...</td>\n",
       "      <td>enron</td>\n",
       "    </tr>\n",
       "    <tr>\n",
       "      <th>1</th>\n",
       "      <td>126257</td>\n",
       "      <td>{'accompli': 1, 'accomplished': 1, 'account': ...</td>\n",
       "      <td>nytimes</td>\n",
       "    </tr>\n",
       "    <tr>\n",
       "      <th>2</th>\n",
       "      <td>278701</td>\n",
       "      <td>{'able': 1, 'ace': 1, 'advantage': 1, 'adverti...</td>\n",
       "      <td>nytimes</td>\n",
       "    </tr>\n",
       "    <tr>\n",
       "      <th>3</th>\n",
       "      <td>97518</td>\n",
       "      <td>{'able': 1, 'abortion': 5, 'abundance': 1, 'ab...</td>\n",
       "      <td>nytimes</td>\n",
       "    </tr>\n",
       "    <tr>\n",
       "      <th>4</th>\n",
       "      <td>157394</td>\n",
       "      <td>{'according': 1, 'actually': 1, 'address': 1, ...</td>\n",
       "      <td>nytimes</td>\n",
       "    </tr>\n",
       "    <tr>\n",
       "      <th>...</th>\n",
       "      <td>...</td>\n",
       "      <td>...</td>\n",
       "      <td>...</td>\n",
       "    </tr>\n",
       "    <tr>\n",
       "      <th>24276</th>\n",
       "      <td>35833</td>\n",
       "      <td>{'assistant': 1, 'awaiting': 1, 'brian': 1, 'p...</td>\n",
       "      <td>enron</td>\n",
       "    </tr>\n",
       "    <tr>\n",
       "      <th>24277</th>\n",
       "      <td>12748</td>\n",
       "      <td>{'add': 1, 'afternoon': 2, 'american': 1, 'att...</td>\n",
       "      <td>enron</td>\n",
       "    </tr>\n",
       "    <tr>\n",
       "      <th>24278</th>\n",
       "      <td>26</td>\n",
       "      <td>{'addition': 1, 'administration': 1, 'alive': ...</td>\n",
       "      <td>kos</td>\n",
       "    </tr>\n",
       "    <tr>\n",
       "      <th>24279</th>\n",
       "      <td>120</td>\n",
       "      <td>{'add': 1, 'analysis': 1, 'answer': 1, 'attent...</td>\n",
       "      <td>kos</td>\n",
       "    </tr>\n",
       "    <tr>\n",
       "      <th>24280</th>\n",
       "      <td>16759</td>\n",
       "      <td>{'affected': 1, 'analysis': 1, 'andor': 1, 'as...</td>\n",
       "      <td>enron</td>\n",
       "    </tr>\n",
       "  </tbody>\n",
       "</table>\n",
       "<p>24281 rows × 3 columns</p>\n",
       "</div>"
      ],
      "text/plain": [
       "       doc_id                                           bow_dict    label\n",
       "0        8018  {'afternoon': 1, 'attached': 1, 'board': 1, 'b...    enron\n",
       "1      126257  {'accompli': 1, 'accomplished': 1, 'account': ...  nytimes\n",
       "2      278701  {'able': 1, 'ace': 1, 'advantage': 1, 'adverti...  nytimes\n",
       "3       97518  {'able': 1, 'abortion': 5, 'abundance': 1, 'ab...  nytimes\n",
       "4      157394  {'according': 1, 'actually': 1, 'address': 1, ...  nytimes\n",
       "...       ...                                                ...      ...\n",
       "24276   35833  {'assistant': 1, 'awaiting': 1, 'brian': 1, 'p...    enron\n",
       "24277   12748  {'add': 1, 'afternoon': 2, 'american': 1, 'att...    enron\n",
       "24278      26  {'addition': 1, 'administration': 1, 'alive': ...      kos\n",
       "24279     120  {'add': 1, 'analysis': 1, 'answer': 1, 'attent...      kos\n",
       "24280   16759  {'affected': 1, 'analysis': 1, 'andor': 1, 'as...    enron\n",
       "\n",
       "[24281 rows x 3 columns]"
      ]
     },
     "execution_count": 5,
     "metadata": {},
     "output_type": "execute_result"
    }
   ],
   "source": [
    "df"
   ]
  },
  {
   "cell_type": "code",
   "execution_count": 6,
   "metadata": {},
   "outputs": [],
   "source": [
    "from sklearn.feature_extraction.text import TfidfVectorizer"
   ]
  },
  {
   "cell_type": "code",
   "execution_count": 7,
   "metadata": {},
   "outputs": [],
   "source": [
    "def dict_to_string(dic):\n",
    "    items = [[item[0]] * item[1] for item in dic.items()]\n",
    "    return \" \".join([str(item) for l in items for item in l if item])"
   ]
  },
  {
   "cell_type": "code",
   "execution_count": 8,
   "metadata": {},
   "outputs": [
    {
     "data": {
      "text/plain": [
       "TfidfVectorizer(norm=None, use_idf=False)"
      ]
     },
     "execution_count": 8,
     "metadata": {},
     "output_type": "execute_result"
    }
   ],
   "source": [
    "tfidf = TfidfVectorizer(use_idf=False, norm=None)\n",
    "df[\"string\"] = df[\"bow_dict\"].apply(dict_to_string)\n",
    "tfidf.fit(df[\"string\"])"
   ]
  },
  {
   "cell_type": "code",
   "execution_count": 9,
   "metadata": {},
   "outputs": [],
   "source": [
    "transformed = tfidf.transform(df[\"string\"])"
   ]
  },
  {
   "cell_type": "code",
   "execution_count": 20,
   "metadata": {},
   "outputs": [],
   "source": [
    "import numpy as np"
   ]
  },
  {
   "cell_type": "code",
   "execution_count": 25,
   "metadata": {},
   "outputs": [],
   "source": [
    "inv_vocab = {item[1]: item[0] for item in tfidf.vocabulary_.items()}"
   ]
  },
  {
   "cell_type": "code",
   "execution_count": 46,
   "metadata": {},
   "outputs": [],
   "source": [
    "too_rare_mask = np.array((transformed > 0).sum(axis=0) <= 2)[0]\n",
    "too_rare_indices = np.where(too_rare_mask)\n",
    "too_rare_tokens = np.vectorize(inv_vocab.get)(too_rare_indices)[0]"
   ]
  },
  {
   "cell_type": "code",
   "execution_count": 48,
   "metadata": {},
   "outputs": [],
   "source": [
    "from funcy import select_keys"
   ]
  },
  {
   "cell_type": "code",
   "execution_count": 49,
   "metadata": {},
   "outputs": [],
   "source": [
    "def filter_too_rare(bow_dict: dict, too_rare_tokens: np.ndarray):\n",
    "    return select_keys(lambda key: key not in too_rare_tokens, bow_dict)"
   ]
  },
  {
   "cell_type": "code",
   "execution_count": 50,
   "metadata": {},
   "outputs": [],
   "source": [
    "import swifter"
   ]
  },
  {
   "cell_type": "code",
   "execution_count": 53,
   "metadata": {},
   "outputs": [],
   "source": [
    "temp = df.sample(frac=0.01)"
   ]
  },
  {
   "cell_type": "code",
   "execution_count": 54,
   "metadata": {},
   "outputs": [
    {
     "data": {
      "application/vnd.jupyter.widget-view+json": {
       "model_id": "9718ca2f09724d4ba569b49c94a23237",
       "version_major": 2,
       "version_minor": 0
      },
      "text/plain": [
       "Pandas Apply:   0%|          | 0/243 [00:00<?, ?it/s]"
      ]
     },
     "metadata": {},
     "output_type": "display_data"
    },
    {
     "data": {
      "text/plain": [
       "2732     {'ability': 1, 'admit': 1, 'amazing': 1, 'anyw...\n",
       "18752    {'arise': 1, 'characterized': 2, 'clinical': 1...\n",
       "4372     {'able': 1, 'air': 1, 'annual': 1, 'appreciate...\n",
       "9610     {'arising': 1, 'bacteria': 1, 'bacterial': 1, ...\n",
       "3918     {'able': 1, 'access': 1, 'according': 1, 'addi...\n",
       "                               ...                        \n",
       "13135    {'closed': 8, 'database': 8, 'date': 1, 'downl...\n",
       "17484    {'able': 1, 'april': 1, 'attend': 1, 'bacon': ...\n",
       "2850     {'action': 1, 'add': 3, 'addition': 1, 'admini...\n",
       "18922    {'accident': 3, 'adjoining': 2, 'agencies': 1,...\n",
       "21097    {'account': 2, 'aerobic/anaerobic': 2, 'air-wa...\n",
       "Name: bow_dict, Length: 243, dtype: object"
      ]
     },
     "execution_count": 54,
     "metadata": {},
     "output_type": "execute_result"
    }
   ],
   "source": [
    "temp[\"bow_dict\"].swifter.apply(filter_too_rare, too_rare_tokens=too_rare_tokens)"
   ]
  }
 ],
 "metadata": {
  "interpreter": {
   "hash": "40ccfa67bf68b2ed06fcd07ea11f0108ca30e76e3ea29b3f4adfde8e4b3f6a56"
  },
  "kernelspec": {
   "display_name": "Python 3.9.12 ('wum')",
   "language": "python",
   "name": "python3"
  },
  "language_info": {
   "codemirror_mode": {
    "name": "ipython",
    "version": 3
   },
   "file_extension": ".py",
   "mimetype": "text/x-python",
   "name": "python",
   "nbconvert_exporter": "python",
   "pygments_lexer": "ipython3",
   "version": "3.9.12"
  },
  "orig_nbformat": 4
 },
 "nbformat": 4,
 "nbformat_minor": 2
}
