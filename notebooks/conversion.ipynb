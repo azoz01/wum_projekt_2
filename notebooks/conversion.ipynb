{
 "cells": [
  {
   "cell_type": "code",
   "execution_count": null,
   "metadata": {},
   "outputs": [],
   "source": [
    "%load_ext lab_black"
   ]
  },
  {
   "cell_type": "code",
   "execution_count": null,
   "metadata": {},
   "outputs": [],
   "source": [
    "import os\n",
    "\n",
    "os.chdir(\"..\")"
   ]
  },
  {
   "cell_type": "code",
   "execution_count": null,
   "metadata": {},
   "outputs": [],
   "source": [
    "import gzip\n",
    "import swifter\n",
    "import numpy as np\n",
    "import pandas as pd\n",
    "from scipy.sparse import csr_array"
   ]
  },
  {
   "cell_type": "code",
   "execution_count": null,
   "metadata": {},
   "outputs": [],
   "source": [
    "dataset_names = [\"enron\", \"kos\", \"nytimes\", \"pubmed\"]\n",
    "docword_paths = [\n",
    "    os.path.join(\"resources\", \"data\", f\"docword.{name}.txt.gz\")\n",
    "    for name in dataset_names\n",
    "]\n",
    "vocab_paths = [\n",
    "    os.path.join(\"resources\", \"data\", f\"vocab.{name}.txt\") for name in dataset_names\n",
    "]"
   ]
  },
  {
   "cell_type": "code",
   "execution_count": null,
   "metadata": {},
   "outputs": [],
   "source": [
    "def convert_raw_data_to_bow_vectors(name, docword_path):\n",
    "    df = pd.read_csv(docword_path, compression=\"gzip\", skiprows=3, header=None, sep=\" \")\n",
    "    df.columns = [\"doc_id\", \"word_id\", \"count\"]\n",
    "    max_id = df.word_id.max()\n",
    "\n",
    "    def flatten_group(group):\n",
    "        ids = group[\"word_id\"].values\n",
    "        counts = group[\"count\"].values\n",
    "        bow_vector = np.zeros(max_id)\n",
    "        bow_vector[ids - 1] = counts\n",
    "        bow_vector = csr_array(bow_vector)\n",
    "        return bow_vector\n",
    "\n",
    "    df = (\n",
    "        df.groupby(\"doc_id\")\n",
    "        .apply(flatten_group)\n",
    "        .reset_index(drop=False)\n",
    "        .rename(columns={0: \"bow_vector\"})\n",
    "    )\n",
    "\n",
    "    df[\"target\"] = name\n",
    "    df.to_pickle(os.path.join(\"resources\", \"data\", f\"joined.{name}.pkl\"))\n",
    "    del [df]"
   ]
  },
  {
   "cell_type": "code",
   "execution_count": null,
   "metadata": {},
   "outputs": [],
   "source": [
    "convert_raw_data_to_bow_vectors(dataset_names[0], docword_paths[0])"
   ]
  },
  {
   "cell_type": "code",
   "execution_count": null,
   "metadata": {},
   "outputs": [],
   "source": [
    "pd.read_pickle(os.path.join(\"resources\", \"data\", f\"joined.{dataset_names[0]}.pkl\"))"
   ]
  },
  {
   "cell_type": "code",
   "execution_count": null,
   "metadata": {},
   "outputs": [],
   "source": [
    "pd.read_pickle(os.path.join(\"resources\", \"data\", f\"joined.{dataset_names[0]}.pkl\")).loc[\n",
    "    0, \"bow_vector\"\n",
    "].toarray()"
   ]
  }
 ],
 "metadata": {
  "interpreter": {
   "hash": "40ccfa67bf68b2ed06fcd07ea11f0108ca30e76e3ea29b3f4adfde8e4b3f6a56"
  },
  "kernelspec": {
   "display_name": "Python 3.9.12 ('wum')",
   "language": "python",
   "name": "python3"
  },
  "language_info": {
   "codemirror_mode": {
    "name": "ipython",
    "version": 3
   },
   "file_extension": ".py",
   "mimetype": "text/x-python",
   "name": "python",
   "nbconvert_exporter": "python",
   "pygments_lexer": "ipython3",
   "version": "3.9.12"
  },
  "orig_nbformat": 4
 },
 "nbformat": 4,
 "nbformat_minor": 2
}
